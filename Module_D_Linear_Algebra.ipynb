{
  "nbformat": 4,
  "nbformat_minor": 0,
  "metadata": {
    "colab": {
      "provenance": [],
      "authorship_tag": "ABX9TyMMgzycUHn8xednZqlQM1tn",
      "include_colab_link": true
    },
    "kernelspec": {
      "name": "python3",
      "display_name": "Python 3"
    },
    "language_info": {
      "name": "python"
    }
  },
  "cells": [
    {
      "cell_type": "markdown",
      "metadata": {
        "id": "view-in-github",
        "colab_type": "text"
      },
      "source": [
        "<a href=\"https://colab.research.google.com/github/helghand1/MAT421/blob/main/Module_D_Linear_Algebra.ipynb\" target=\"_parent\"><img src=\"https://colab.research.google.com/assets/colab-badge.svg\" alt=\"Open In Colab\"/></a>"
      ]
    },
    {
      "cell_type": "markdown",
      "source": [
        "# Hussein ElGhandour\n",
        "\n",
        "## MAT 421\n",
        "\n",
        "## Module D: Linear Algebra"
      ],
      "metadata": {
        "id": "ZobimBLJts80"
      }
    },
    {
      "cell_type": "markdown",
      "source": [
        "## Linear Space\n",
        "\n",
        "### Introduction\n",
        "\n",
        "A linear space (or vector space) consists of a set of vectors that can be added together and scaled by real or complex numbers while satisfying specific mathematical properties. These properties include closure under addition and scalar multiplication, associativity, commutativity, the existence of a zero vector, and the presence of additive inverses. A fundamental aspect of linear spaces is linear independence, where a set of vectors is independent if no vector in the set can be written as a linear combination of the others. A basis is a set of linearly independent vectors that span the entire space, allowing any vector in the space to be expressed as a combination of these basis vectors. The number of basis vectors defines the dimension of the space, such as $R^3$, which has three basis vectors. Another key concept is subspaces, which are subsets of a vector space that maintain vector space properties under the same operations. The span of a set of vectors includes all possible linear combinations of those vectors, determining whether they fully describe a given space. Additionally, the null space of a matrix consists of all vectors that satisfy $Ax=0$, while the column space contains all linear combinations of a matrix’s columns. These fundamental concepts are essential for solving systems of linear equations, performing transformations, and analyzing vector operations in higher-dimensional spaces. The next step involves applying these ideas through problem-solving and Python implementations."
      ],
      "metadata": {
        "id": "exVtb3qdt3Pi"
      }
    },
    {
      "cell_type": "code",
      "source": [
        "import numpy as np\n",
        "from scipy.linalg import null_space\n",
        "\n",
        "# Define two vectors in R^2\n",
        "v1 = np.array([2, 3])\n",
        "v2 = np.array([-1, 4])\n",
        "\n",
        "# Vector addition (closure property)\n",
        "v_sum = v1 + v2\n",
        "\n",
        "# Scalar multiplication (closure property)\n",
        "scalar = 3\n",
        "v_scaled = scalar * v1\n",
        "\n",
        "# Check if vectors are linearly independent\n",
        "A = np.column_stack((v1, v2))  # Create a matrix with v1 and v2 as columns\n",
        "rank = np.linalg.matrix_rank(A)\n",
        "is_independent = rank == A.shape[1]  # True if rank equals number of columns\n",
        "\n",
        "# Span example: Creating a new vector from a linear combination of v1 and v2\n",
        "c1, c2 = 2, -1  # Example scalar coefficients\n",
        "span_vector = c1 * v1 + c2 * v2\n",
        "\n",
        "# Compute the null space of a matrix\n",
        "M = np.array([[2, 4], [1, 2]])  # Example matrix with a nontrivial null space\n",
        "null_space_vectors = null_space(M)\n",
        "\n",
        "# Display results\n",
        "print(\"Vector 1:\", v1)\n",
        "print(\"Vector 2:\", v2)\n",
        "print(\"Vector Sum (v1 + v2):\", v_sum)\n",
        "print(\"Scaled Vector (3 * v1):\", v_scaled)\n",
        "print(\"Are v1 and v2 linearly independent?\", is_independent)\n",
        "print(\"Span Vector (2*v1 - 1*v2):\", span_vector)\n",
        "print(\"Null Space of M:\\n\", null_space_vectors)\n"
      ],
      "metadata": {
        "colab": {
          "base_uri": "https://localhost:8080/"
        },
        "id": "OZBZYNp5t20Q",
        "outputId": "693fe611-197f-4729-9d5f-4d572c81bec6"
      },
      "execution_count": 3,
      "outputs": [
        {
          "output_type": "stream",
          "name": "stdout",
          "text": [
            "Vector 1: [2 3]\n",
            "Vector 2: [-1  4]\n",
            "Vector Sum (v1 + v2): [1 7]\n",
            "Scaled Vector (3 * v1): [6 9]\n",
            "Are v1 and v2 linearly independent? True\n",
            "Span Vector (2*v1 - 1*v2): [5 2]\n",
            "Null Space of M:\n",
            " [[-0.89442719]\n",
            " [ 0.4472136 ]]\n"
          ]
        }
      ]
    },
    {
      "cell_type": "markdown",
      "source": [
        "## Orthogonality\n",
        "\n",
        "### Introduction\n",
        "\n",
        "Orthogonality is a fundamental concept in linear algebra that describes the perpendicularity of vectors in a vector space. Two vectors are orthogonal if their dot product is zero, meaning they form a 90-degree angle. This property is crucial in many applications, including solving linear systems, optimizing least squares problems, and performing dimensionality reduction. A set of vectors is called orthonormal if the vectors are both orthogonal and have unit length (norm equal to 1). Orthonormal bases, such as those obtained through the Gram-Schmidt process, provide a convenient way to simplify computations, particularly in transformations and projections. One of the most important uses of orthogonality is in projections, where a vector is projected onto another vector or subspace to find its closest approximation within that space. The concept also plays a key role in orthogonal matrices, which have columns that form an orthonormal basis and satisfy the property $Q^TQ=I$, making them useful in numerical stability and preserving vector norms during transformations. These principles are widely used in numerical methods, particularly in QR decomposition, least squares regression, and principal component analysis. The next step involves demonstrating these ideas through problem-solving and Python implementation."
      ],
      "metadata": {
        "id": "JSQK-qtFwill"
      }
    },
    {
      "cell_type": "code",
      "source": [
        "import numpy as np\n",
        "\n",
        "# Define two vectors\n",
        "v1 = np.array([1, -1, 2])\n",
        "v2 = np.array([2, 2, -4])\n",
        "\n",
        "# Check orthogonality using the dot product\n",
        "dot_product = np.dot(v1, v2)\n",
        "is_orthogonal = np.isclose(dot_product, 0)\n",
        "\n",
        "# Normalize the vectors to create an orthonormal set\n",
        "v1_norm = v1 / np.linalg.norm(v1)\n",
        "v2_norm = v2 / np.linalg.norm(v2)\n",
        "\n",
        "# Compute the projection of v1 onto v2\n",
        "projection_v1_on_v2 = (np.dot(v1, v2) / np.dot(v2, v2)) * v2\n",
        "\n",
        "# Display results\n",
        "print(\"Vector 1:\", v1)\n",
        "print(\"Vector 2:\", v2)\n",
        "print(\"Dot Product (v1 · v2):\", dot_product)\n",
        "print(\"Are the vectors orthogonal?\", is_orthogonal)\n",
        "print(\"Normalized Vector 1:\", v1_norm)\n",
        "print(\"Normalized Vector 2:\", v2_norm)\n",
        "print(\"Projection of v1 onto v2:\", projection_v1_on_v2)\n"
      ],
      "metadata": {
        "colab": {
          "base_uri": "https://localhost:8080/"
        },
        "id": "DJPIimSrxLmh",
        "outputId": "bdf56d73-5691-4192-e0a8-c70d34cefc96"
      },
      "execution_count": 4,
      "outputs": [
        {
          "output_type": "stream",
          "name": "stdout",
          "text": [
            "Vector 1: [ 1 -1  2]\n",
            "Vector 2: [ 2  2 -4]\n",
            "Dot Product (v1 · v2): -8\n",
            "Are the vectors orthogonal? False\n",
            "Normalized Vector 1: [ 0.40824829 -0.40824829  0.81649658]\n",
            "Normalized Vector 2: [ 0.40824829  0.40824829 -0.81649658]\n",
            "Projection of v1 onto v2: [-0.66666667 -0.66666667  1.33333333]\n"
          ]
        }
      ]
    },
    {
      "cell_type": "markdown",
      "source": [
        "## Eigenvalues\n",
        "\n",
        "### Introduction\n",
        "\n",
        "An eigenvalue is a scalar that characterizes how a transformation matrix stretches or compresses a vector in a given direction. Given a square matrix $A$, an eigenvalue $λ$ and its associated eigenvector $v$ satisfy the equation:\n",
        "\n",
        "$$\n",
        "Av=λv\n",
        "$$\n",
        "\n",
        "where $v$ is a nonzero vector. Eigenvalues and eigenvectors are fundamental in understanding matrix transformations, stability analysis, and dimensionality reduction. They play a critical role in solving systems of differential equations, optimizing computational methods, and decomposing matrices in applications such as Principal Component Analysis (PCA) and Markov processes.\n",
        "\n",
        "The eigenvalues of a matrix are found by solving the characteristic equation, obtained by setting the determinant of $A−λI$ to zero:\n",
        "\n",
        "$$\n",
        "det(A−λI)=0\n",
        "$$\n",
        "\n",
        "where $I$ is the identity matrix. The corresponding eigenvectors are determined by solving the resulting system of linear equations. In numerical methods, iterative approaches such as the Power Method and QR Algorithm are used to approximate eigenvalues for large matrices efficiently.\n",
        "\n",
        "A matrix with distinct eigenvalues has linearly independent eigenvectors, which can form a basis for diagonalization. This means that a matrix $A$ can be decomposed as $A=PDP^{−1}$, where $D$ is a diagonal matrix of eigenvalues and $P$ contains the eigenvectors as columns. In special cases, symmetric matrices always have real eigenvalues and orthogonal eigenvectors, making them particularly useful in numerical stability.\n",
        "\n",
        "Eigenvalues and eigenvectors provide deep insight into how a matrix behaves under transformations, making them essential in physics, engineering, and machine learning. The next step involves applying these concepts through manual calculations and Python implementation."
      ],
      "metadata": {
        "id": "KZh8KLJcyCvJ"
      }
    },
    {
      "cell_type": "code",
      "source": [
        "import numpy as np\n",
        "\n",
        "# Define a square matrix A\n",
        "A = np.array([[4, -2],\n",
        "              [1, 1]])\n",
        "\n",
        "# Compute eigenvalues and eigenvectors\n",
        "eigenvalues, eigenvectors = np.linalg.eig(A)\n",
        "\n",
        "# Verify the eigenvalue equation Av = λv for the first eigenpair\n",
        "lambda_1 = eigenvalues[0]\n",
        "v1 = eigenvectors[:, 0]\n",
        "Av1 = np.dot(A, v1)\n",
        "lambda_v1 = lambda_1 * v1\n",
        "\n",
        "# Check if A is diagonalizable (independent eigenvectors)\n",
        "is_diagonalizable = np.linalg.matrix_rank(eigenvectors) == A.shape[0]\n",
        "\n",
        "# Diagonalization: A = P D P_inv\n",
        "if is_diagonalizable:\n",
        "    P = eigenvectors\n",
        "    D = np.diag(eigenvalues)\n",
        "    P_inv = np.linalg.inv(P)\n",
        "    reconstructed_A = P @ D @ P_inv  # Should be close to A\n",
        "\n",
        "# Display results\n",
        "print(\"Matrix A:\\n\", A)\n",
        "print(\"\\nEigenvalues:\", eigenvalues)\n",
        "print(\"\\nEigenvectors:\\n\", eigenvectors)\n",
        "print(\"\\nVerifying Av = λv for first eigenpair:\")\n",
        "print(\"A * v1:\\n\", Av1)\n",
        "print(\"λ * v1:\\n\", lambda_v1)\n",
        "print(\"\\nIs A diagonalizable?\", is_diagonalizable)\n",
        "if is_diagonalizable:\n",
        "    print(\"\\nDiagonal matrix D:\\n\", D)\n",
        "    print(\"\\nReconstructed A (P * D * P_inv):\\n\", reconstructed_A)"
      ],
      "metadata": {
        "colab": {
          "base_uri": "https://localhost:8080/"
        },
        "id": "TEXda3uSzUrm",
        "outputId": "eb976641-5017-48ae-fe8f-2ca2fa2d1b9d"
      },
      "execution_count": 6,
      "outputs": [
        {
          "output_type": "stream",
          "name": "stdout",
          "text": [
            "Matrix A:\n",
            " [[ 4 -2]\n",
            " [ 1  1]]\n",
            "\n",
            "Eigenvalues: [3. 2.]\n",
            "\n",
            "Eigenvectors:\n",
            " [[0.89442719 0.70710678]\n",
            " [0.4472136  0.70710678]]\n",
            "\n",
            "Verifying Av = λv for first eigenpair:\n",
            "A * v1:\n",
            " [2.68328157 1.34164079]\n",
            "λ * v1:\n",
            " [2.68328157 1.34164079]\n",
            "\n",
            "Is A diagonalizable? True\n",
            "\n",
            "Diagonal matrix D:\n",
            " [[3. 0.]\n",
            " [0. 2.]]\n",
            "\n",
            "Reconstructed A (P * D * P_inv):\n",
            " [[ 4. -2.]\n",
            " [ 1.  1.]]\n"
          ]
        }
      ]
    },
    {
      "cell_type": "code",
      "source": [
        "import numpy as np\n",
        "\n",
        "def power_method(A, max_iters=100, tol=1e-6):\n",
        "    n, _ = A.shape\n",
        "    x = np.random.rand(n)  # Random initial vector\n",
        "    x = x / np.linalg.norm(x)  # Normalize\n",
        "\n",
        "    lambda_old = 0\n",
        "\n",
        "    for _ in range(max_iters):\n",
        "        x_new = np.dot(A, x)\n",
        "        lambda_new = np.dot(x_new, x) / np.dot(x, x)  # Rayleigh quotient\n",
        "        x_new = x_new / np.linalg.norm(x_new)  # Normalize\n",
        "\n",
        "        if np.abs(lambda_new - lambda_old) < tol:\n",
        "            break\n",
        "\n",
        "        x = x_new\n",
        "        lambda_old = lambda_new\n",
        "\n",
        "    return lambda_new, x\n",
        "\n",
        "# Define a matrix\n",
        "A = np.array([[4, -2],\n",
        "              [1, 1]])\n",
        "\n",
        "# Compute the dominant eigenvalue using the Power Method\n",
        "lambda_power, v_power = power_method(A)\n",
        "\n",
        "# Display results\n",
        "print(\"Dominant Eigenvalue (Power Method):\", lambda_power)\n",
        "print(\"Corresponding Eigenvector:\", v_power)"
      ],
      "metadata": {
        "colab": {
          "base_uri": "https://localhost:8080/"
        },
        "id": "FYuRcvXA0Sxh",
        "outputId": "04e0edb4-eadb-45e0-cc46-0a3f72601611"
      },
      "execution_count": 7,
      "outputs": [
        {
          "output_type": "stream",
          "name": "stdout",
          "text": [
            "Dominant Eigenvalue (Power Method): 3.000001772091965\n",
            "Corresponding Eigenvector: [-0.89442746 -0.44721307]\n"
          ]
        }
      ]
    },
    {
      "cell_type": "code",
      "source": [
        "def qr_method(A, max_iters=100, tol=1e-6):\n",
        "    n, _ = A.shape\n",
        "    A_k = A.copy()\n",
        "\n",
        "    for _ in range(max_iters):\n",
        "        Q, R = np.linalg.qr(A_k)  # QR decomposition\n",
        "        A_k = np.dot(R, Q)  # Update A_k\n",
        "\n",
        "        # Check for convergence (off-diagonal elements close to zero)\n",
        "        off_diag_norm = np.linalg.norm(A_k - np.diag(np.diagonal(A_k)))\n",
        "        if off_diag_norm < tol:\n",
        "            break\n",
        "\n",
        "    return np.diagonal(A_k)  # The eigenvalues are the diagonal elements\n",
        "\n",
        "# Compute all eigenvalues using the QR Method\n",
        "lambda_qr = qr_method(A)\n",
        "\n",
        "# Display results\n",
        "print(\"\\nEigenvalues (QR Method):\", lambda_qr)"
      ],
      "metadata": {
        "colab": {
          "base_uri": "https://localhost:8080/"
        },
        "id": "a2_ASzC-0V2G",
        "outputId": "dff2f4ec-ce7d-4068-d4df-66e5aacb26f8"
      },
      "execution_count": 8,
      "outputs": [
        {
          "output_type": "stream",
          "name": "stdout",
          "text": [
            "\n",
            "Eigenvalues (QR Method): [3. 2.]\n"
          ]
        }
      ]
    },
    {
      "cell_type": "markdown",
      "source": [
        "## Linear Regression\n",
        "\n",
        "### Introduction\n",
        "\n",
        "Linear regression is a fundamental technique in numerical methods and statistics used to model the relationship between a dependent variable and one or more independent variables. In its simplest form, simple linear regression fits a straight line to a set of data points using the equation:\n",
        "\n",
        "$$\n",
        "y=mx+b\n",
        "$$\n",
        "\n",
        "where $m$ is the slope and bb is the y-intercept. The goal is to determine the best-fitting line that minimizes the sum of squared differences between the observed values and the predicted values. This is achieved using the least squares method, which finds the optimal parameters by minimizing the residual sum of squares:\n",
        "\n",
        "$$\n",
        "∑(yi​−(mxi​+b))2\n",
        "$$\n",
        "\n",
        "For datasets with multiple independent variables, multiple linear regression extends this concept to a higher-dimensional space using the equation:\n",
        "\n",
        "$$\n",
        "Y=Xβ+ϵ\n",
        "$$\n",
        "\n",
        "where $X$ is the matrix of input features, $β$ is the vector of coefficients, and $ϵ$ represents the error term. The solution to this system is obtained using the normal equation:\n",
        "\n",
        "$$\n",
        "β=(XTX)−1XTY\n",
        "$$\n",
        "\n",
        "which directly computes the optimal regression coefficients. Alternatively, gradient descent is often used for large datasets where matrix inversion is computationally expensive.\n",
        "\n",
        "Linear regression is widely applied in predictive modeling, trend analysis, and data-driven decision-making. The method assumes a linear relationship, normally distributed residuals, and homoscedasticity (constant variance of errors). Violations of these assumptions may require transformations or alternative regression techniques. In numerical methods, linear regression plays a crucial role in approximation, interpolation, and data fitting. The next step involves solving a regression problem manually and implementing it in Python."
      ],
      "metadata": {
        "id": "MI2u8_D-zayR"
      }
    },
    {
      "cell_type": "code",
      "source": [
        "import numpy as np\n",
        "import matplotlib.pyplot as plt\n",
        "\n",
        "# Generate synthetic data (y = 2x + 3 + noise)\n",
        "np.random.seed(42)\n",
        "x = np.linspace(0, 10, 20)  # Independent variable\n",
        "y = 2 * x + 3 + np.random.normal(0, 2, size=len(x))  # Add some noise\n",
        "\n",
        "# Reshape x for matrix operations\n",
        "X = np.column_stack((np.ones(len(x)), x))  # Add bias term (column of ones)\n",
        "\n",
        "# Compute regression coefficients using the Normal Equation\n",
        "beta = np.linalg.inv(X.T @ X) @ X.T @ y\n",
        "\n",
        "# Predicted values using the model\n",
        "y_pred = X @ beta\n",
        "\n",
        "# Plot the data and regression line\n",
        "plt.scatter(x, y, label=\"Data Points\", color=\"blue\")\n",
        "plt.plot(x, y_pred, label=f\"Regression Line: y = {beta[1]:.2f}x + {beta[0]:.2f}\", color=\"red\")\n",
        "plt.xlabel(\"x\")\n",
        "plt.ylabel(\"y\")\n",
        "plt.legend()\n",
        "plt.title(\"Linear Regression using Normal Equation\")\n",
        "plt.show()\n",
        "\n",
        "# Verify using NumPy's built-in least squares function\n",
        "beta_ls, _, _, _ = np.linalg.lstsq(X, y, rcond=None)\n",
        "\n",
        "# Display results\n",
        "print(\"Regression Coefficients (Normal Equation):\", beta)\n",
        "print(\"Regression Coefficients (Least Squares):\", beta_ls)\n"
      ],
      "metadata": {
        "colab": {
          "base_uri": "https://localhost:8080/",
          "height": 509
        },
        "id": "BqIn4cgdzgQ6",
        "outputId": "44aa4a7b-fba0-48ca-f993-d46edda78bbb"
      },
      "execution_count": 9,
      "outputs": [
        {
          "output_type": "display_data",
          "data": {
            "text/plain": [
              "<Figure size 640x480 with 1 Axes>"
            ],
            "image/png": "[encoded data removed]"
          },
          "metadata": {}
        },
        {
          "output_type": "stream",
          "name": "stdout",
          "text": [
            "Regression Coefficients (Normal Equation): [4.54913327 1.62165392]\n",
            "Regression Coefficients (Least Squares): [4.54913327 1.62165392]\n"
          ]
        }
      ]
    }
  ]
}