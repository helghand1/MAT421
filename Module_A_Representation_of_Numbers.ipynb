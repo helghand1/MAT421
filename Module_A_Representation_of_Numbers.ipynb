{
  "nbformat": 4,
  "nbformat_minor": 0,
  "metadata": {
    "colab": {
      "provenance": [],
      "authorship_tag": "ABX9TyNWH683yTVIB7gnvc4FsjrI",
      "include_colab_link": true
    },
    "kernelspec": {
      "name": "python3",
      "display_name": "Python 3"
    },
    "language_info": {
      "name": "python"
    }
  },
  "cells": [
    {
      "cell_type": "markdown",
      "metadata": {
        "id": "view-in-github",
        "colab_type": "text"
      },
      "source": [
        "<a href=\"https://colab.research.google.com/github/helghand1/MAT421/blob/main/Module_A_Representation_of_Numbers.ipynb\" target=\"_parent\"><img src=\"https://colab.research.google.com/assets/colab-badge.svg\" alt=\"Open In Colab\"/></a>"
      ]
    },
    {
      "cell_type": "markdown",
      "source": [
        "# Hussein ElGhandour\n",
        "# MAT 421\n",
        "# Module A: Representation of Numbers Homework"
      ],
      "metadata": {
        "id": "m4A7d-kzqJ2E"
      }
    },
    {
      "cell_type": "markdown",
      "source": [
        "## Base-N and Binary"
      ],
      "metadata": {
        "id": "HgfsAzarqj3j"
      }
    },
    {
      "cell_type": "code",
      "source": [],
      "metadata": {
        "id": "rO06yf1gsIn5"
      },
      "execution_count": null,
      "outputs": []
    }
  ]
}