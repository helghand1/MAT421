{
  "nbformat": 4,
  "nbformat_minor": 0,
  "metadata": {
    "colab": {
      "provenance": [],
      "authorship_tag": "ABX9TyO1AxWEMnYgmKDXzjENR2Ho",
      "include_colab_link": true
    },
    "kernelspec": {
      "name": "python3",
      "display_name": "Python 3"
    },
    "language_info": {
      "name": "python"
    }
  },
  "cells": [
    {
      "cell_type": "markdown",
      "metadata": {
        "id": "view-in-github",
        "colab_type": "text"
      },
      "source": [
        "<a href=\"https://colab.research.google.com/github/helghand1/MAT421/blob/main/Module_A_Representation_of_Numbers.ipynb\" target=\"_parent\"><img src=\"https://colab.research.google.com/assets/colab-badge.svg\" alt=\"Open In Colab\"/></a>"
      ]
    },
    {
      "cell_type": "markdown",
      "source": [
        "# Hussein ElGhandour\n",
        "# MAT 421\n",
        "# Module A: Representation of Numbers Homework"
      ],
      "metadata": {
        "id": "m4A7d-kzqJ2E"
      }
    },
    {
      "cell_type": "markdown",
      "source": [
        "## Base-N and Binary\n",
        "\n",
        "### Introduction:\n",
        "The **Base-N system** represents numbers using N digits, ranging from 0 to N-1. Each digit corresponds to a power of the base N. While Base-10 (decimal) is the system used in everyday life, other bases, such as **Base-2 (binary)**, are crucial in computing.\n",
        "\n",
        "In a Base-N number system:\n",
        "$$\n",
        "\\text{Number} = d_k \\cdot N^k + d_{k-1} \\cdot N^{k-1} + \\ldots + d_0 \\cdot N^0\n",
        "$$\n",
        "Where $d_i$ are the digits of the number, and N is the base.\n",
        "\n",
        "### Why Binary?\n",
        "**Binary (Base-2)** is fundamental to computers because digital circuits operate using two states: high (1) and low (0). This simplicity makes binary efficient for processing and storage.\n",
        "\n",
        "### Conversion Concepts:\n",
        "1. **Decimal to Binary**: Repeatedly divide the decimal number by 2, recording the remainders. The binary representation is the sequence of remainders read in reverse.\n",
        "2. **Binary to Decimal**: Multiply each digit of the binary number by $2^i$, where $i$ is the position of the digit from right to left (starting at 0), and sum the results.\n",
        "3. **Arbitrary Base Conversion**: The same logic applies, with N replacing 2 for other bases.\n",
        "\n",
        "### Examples:\n",
        "1. **Decimal to Binary Conversion**: Convert 19 (decimal) to binary:\n",
        "   - $(19 \\div 2 = 9) \\enspace remainder \\enspace (1)$\n",
        "   - $(9 \\div 2 = 4) \\enspace remainder \\enspace (1)$\n",
        "   - $(4 \\div 2 = 2) \\enspace remainder \\enspace (0)$\n",
        "   - $(2 \\div 2 = 1) \\enspace remainder \\enspace (0)$\n",
        "   - $(1 \\div 2 = 0) \\enspace remainder \\enspace (1)$\n",
        "   - Binary Representation (remainders read in reverse): $10011$.\n",
        "\n",
        "2. **Binary to Decimal Conversion**: Convert 10011 (binary) to decimal:\n",
        "$$\n",
        "10011 = 1 \\cdot 2^4 + 0 \\cdot 2^3 + 0 \\cdot 2^2 + 1 \\cdot 2^1 + 1 \\cdot 2^0 = 16 + 0 + 0 + 2 + 1 = 19\n",
        "$$\n",
        "\n",
        "3. **Decimal to Base-5 Conversion (Arbitrary Base Converstion Example)**: Convert 47 (decimal) to Base-5:\n",
        "   - $(47 \\div 5 = 9) \\enspace remainder \\enspace (2)$\n",
        "   - $(9 \\div 5 = 1) \\enspace remainder \\enspace (4)$\n",
        "   - $(1 \\div 5 = 0) \\enspace remainder \\enspace (1)$\n",
        "   - Base-5 Representation (remainders read in reverse): $142$.\n"
      ],
      "metadata": {
        "id": "Rvg9NZ-Z4LON"
      }
    },
    {
      "cell_type": "code",
      "source": [
        "# Decimal to Binary Conversion\n",
        "decimal_number = 27\n",
        "binary_result = \"\"\n",
        "while decimal_number > 0:\n",
        "    remainder = decimal_number % 2\n",
        "    binary_result = str(remainder) + binary_result\n",
        "    decimal_number = decimal_number // 2\n",
        "print(\"Binary representation of 27 (Decimal) is:\", binary_result)\n",
        "\n",
        "# Binary to Decimal Conversion\n",
        "binary_number = \"10101\"\n",
        "decimal_result = 0\n",
        "position = 0\n",
        "for digit in reversed(binary_number):\n",
        "    decimal_result += int(digit) * (2 ** position)\n",
        "    position += 1\n",
        "print(\"Decimal representation of 10101 (Binary) is:\", decimal_result)\n",
        "\n",
        "# The next two examples show an arbitrary N for Base-N conversions\n",
        "# In these cases, N = 7\n",
        "\n",
        "# Decimal to Base-7 Conversion\n",
        "decimal_number = 46\n",
        "base7_result = \"\"\n",
        "while decimal_number > 0:\n",
        "    remainder = decimal_number % 7\n",
        "    base7_result = str(remainder) + base7_result\n",
        "    decimal_number = decimal_number // 7\n",
        "print(\"Base-7 representation of 46 (Decimal) is:\", base7_result)\n",
        "\n",
        "# Base-7 to Decimal Conversion\n",
        "base7_number = \"52\"\n",
        "decimal_result = 0\n",
        "position = 0\n",
        "for digit in reversed(base7_number):\n",
        "    decimal_result += int(digit) * (7 ** position)\n",
        "    position += 1\n",
        "print(\"Decimal representation of 52 (Base-7) is:\", decimal_result)"
      ],
      "metadata": {
        "colab": {
          "base_uri": "https://localhost:8080/"
        },
        "id": "bq3XRGRA6gpW",
        "outputId": "da5b8787-35a0-4336-ce2b-a99fab0a443d"
      },
      "execution_count": null,
      "outputs": [
        {
          "output_type": "stream",
          "name": "stdout",
          "text": [
            "Binary representation of 27 (Decimal) is: 11011\n",
            "Decimal representation of 10101 (Binary) is: 21\n",
            "Base-7 representation of 46 (Decimal) is: 64\n",
            "Decimal representation of 52 (Base-7) is: 37\n"
          ]
        }
      ]
    },
    {
      "cell_type": "markdown",
      "source": [
        "## Floating Point Numbers\n",
        "\n",
        "### Introduction:\n",
        "In numerical computing, real numbers are represented as **floating point numbers** to allow a wide range of values while maintaining precision. Unlike integers, floating point numbers can represent fractions, as well as very large or very small values, efficiently.\n",
        "\n",
        "### Structure of Floating Point Numbers:\n",
        "A floating point number is typically expressed in the form:\n",
        "$$\n",
        "n = (-1)^s \\cdot m \\cdot 2^e\n",
        "$$\n",
        "Where:\n",
        "- $s$ is the **sign** bit (0 for positive, 1 for negative),\n",
        "- $m$ is the **mantissa** (or significand), representing the significant digits,\n",
        "- $e$ is the **exponent**, representing the power of 2 by which $m$ is scaled.\n",
        "\n",
        "### IEEE 754 Standard:\n",
        "Modern computers use the **IEEE 754 standard** for floating point representation. The most commonly used format is **double precision (64 bits)**, consisting of:\n",
        "1. **Sign bit (1 bit)**: Determines whether the number is positive (0) or negative (1).\n",
        "2. **Exponent (11 bits)**: Encodes the power of 2, using a bias of 1023 (i.e., the stored exponent is $e + 1023$).\n",
        "3. **Mantissa (52 bits)**: Stores the significant digits. The leading 1 in the mantissa is implicit and not stored to save space.\n",
        "\n",
        "### Example Representation:\n",
        "Consider the number $15.0$. Its floating point representation in IEEE 754 is as follows:\n",
        "1. **Binary Representation**: $15.0 = 1111.0 = 1.111 \\cdot 2^3$\n",
        "2. **Sign**: 0 (positive number)\n",
        "3. **Exponent**: $3 + 1023 = 1026 \\enspace (10000000010 \\enspace in \\enspace binary)$ (This is done by rearranging the formula for the exponent)\n",
        "4. **Mantissa**: $111000... \\enspace (truncated \\enspace to \\enspace 52 \\enspace bits)$\n",
        "\n",
        "Thus, $15.0$ in IEEE 754 format is:\n",
        "$$\n",
        "0 \\enspace 10000000010 \\enspace 1110000000000000000000000000000000000000000000000000\n",
        "$$\n",
        "\n",
        "#### Python Demonstration:\n",
        "Using Python, this example can observed:"
      ],
      "metadata": {
        "id": "XCKB4wqDHtd_"
      }
    },
    {
      "cell_type": "code",
      "source": [
        "15 == (-1)**0 * (2**((1*2**10 + 1*2**1) - 1023)) * (1 + 1*2**-1 + 1*2**-2 + 1*2**-3)"
      ],
      "metadata": {
        "colab": {
          "base_uri": "https://localhost:8080/"
        },
        "id": "upEl6gKnmAOP",
        "outputId": "b008f37e-ae85-438f-980b-7ff89a416dae"
      },
      "execution_count": null,
      "outputs": [
        {
          "output_type": "execute_result",
          "data": {
            "text/plain": [
              "True"
            ]
          },
          "metadata": {},
          "execution_count": 44
        }
      ]
    },
    {
      "cell_type": "markdown",
      "source": [
        "### Key Properties of Floating Point Numbers:\n",
        "1. **Range**: Floating point numbers can represent very large and very small values, but there are limits.\n",
        "2. **Precision**: Numbers are approximated to a finite number of significant digits, leading to **round-off errors** ( more about this can be found in the next section).\n",
        "3. **Special Values**:\n",
        "   - **Infinity $(-\\infty, +\\infty)$**: Represented when the exponent is all 1s, and the mantissa is all 0s.\n",
        "   - **NaN (Not a Number)**: Represented when the exponent is all 1s, and the mantissa is non-zero.\n",
        "   - **Subnormal Numbers**: Represent values smaller than the smallest normalized floating point number.\n",
        "\n",
        "### Examples:\n",
        "1. Represent 6.5 as a floating point number:\n",
        "   - $6.5 = 110.1 = 1.101 \\cdot 2^2$\n",
        "   - **Sign**: 0 (positive)\n",
        "   - **Exponent**: 2 + 1023 = 1025 (10000000001 in binary) (This is done by rearranging the formula for the exponent)\n",
        "   - **Mantissa**: 101000... (truncated to 52 bits)\n",
        "\n",
        "2. Represent 0.1 as a floating point number:\n",
        "   - 0.1 = 1.100110011... (repeating binary) scaled by $2^{-4}$\n",
        "   - **Sign**: 0 (positive)\n",
        "   - **Exponent**: -4 + 1023 = 1019 (01111111011 in binary) (This is done by rearranging the formula for the exponent)\n",
        "   - **Mantissa**: Binary representation of 0.100110011...\n",
        "\n",
        "### Overflow and Underflow\n",
        "\n",
        "Floating-point numbers in the IEEE 754 standard have a finite range due to the limited number of bits available for the exponent. This limitation can result in two key issues:\n",
        "\n",
        "#### 1. Overflow:\n",
        "- **Definition**: Overflow occurs when a number is too large to be represented within the maximum range of the floating-point format.\n",
        "- **Result**: When a number exceeds the maximum representable value $( \\text{max value} \\approx 1.8 \\times 10^{308} \\text{ for double precision})$, it is set to $+\\infty$ or $-\\infty$, depending on the sign.\n",
        "- **Example**: Multiplying the maximum double-precision number by 10 results in overflow:\n",
        "$$\n",
        "  \\text{max} \\times 10 = +\\infty.\n",
        "$$\n",
        "\n",
        "#### 2. Underflow:\n",
        "- **Definition**: Underflow occurs when a number is too small (in magnitude) to be represented within the minimum normalized range of the floating-point format.\n",
        "- **Result**: Numbers smaller than the minimum normalized value $( \\text{min value} \\approx 2.2 \\times 10^{-308} \\text {for double precision})$ are represented as **subnormal numbers** or rounded to 0.0 if they are smaller than the subnormal range.\n",
        "- **Example**: Subtracting two very close numbers can result in underflow:\n",
        "$$\n",
        "  2.0 \\times 10^{-308} - 1.0 \\times 10^{-308} = 1.0 \\times 10^{-308}.\n",
        "$$\n",
        "  However, if the result is smaller than the smallest subnormal number, it becomes \\(0.0\\).\n",
        "\n",
        "#### Python Demonstration:\n",
        "Using Python, overflow and underflow can be observed with the `sys.float_info` module:"
      ],
      "metadata": {
        "id": "lYrvctnzl_uN"
      }
    },
    {
      "cell_type": "code",
      "source": [
        "import sys\n",
        "print(\"Maximum representable value:\", sys.float_info.max)\n",
        "print(\"Minimum normalized value:\", sys.float_info.min)\n",
        "\n",
        "# Overflow\n",
        "large_value = sys.float_info.max*10\n",
        "print(\"Overflow result:\", large_value)  # Expect infinity (inf)\n",
        "\n",
        "# Underflow\n",
        "small_value = 1e-324  # Smallest subnormal number\n",
        "underflow_result = small_value / 2\n",
        "print(\"Underflow result:\", underflow_result)  # Expect 0.0\n"
      ],
      "metadata": {
        "colab": {
          "base_uri": "https://localhost:8080/"
        },
        "id": "xWiJRjQ1QpfP",
        "outputId": "18fe24f5-170b-46d1-9274-a2fe09ba5165"
      },
      "execution_count": null,
      "outputs": [
        {
          "output_type": "stream",
          "name": "stdout",
          "text": [
            "Maximum representable value: 1.7976931348623157e+308\n",
            "Minimum normalized value: 2.2250738585072014e-308\n",
            "Overflow result: inf\n",
            "Underflow result: 0.0\n"
          ]
        }
      ]
    },
    {
      "cell_type": "markdown",
      "source": [
        "### Gaps Between Representable Floating-Point Numbers:\n",
        "In floating-point representation, the numbers are spaced unevenly across the range. This spacing is referred to as **gaps** between representable numbers.\n",
        "\n",
        "1. **How Gaps Work**:\n",
        "   - The distance between consecutive floating-point numbers increases as the magnitude of the numbers increases.\n",
        "   - This happens because the fraction is multiplied by the exponent, $2^{\\text{e} - 1023}$.\n",
        "\n",
        "2. **Implications**:\n",
        "   - For small numbers, the gaps are tiny, allowing for high precision.\n",
        "   - For large numbers, the gaps are larger, which can lead to rounding errors in calculations.\n",
        "\n",
        "3. **Example**:\n",
        "   - Near $1.0$, the gap between consecutive representable numbers is approximately $2^{-52} \\approx 2.22 \\times 10^{-16}$.\n",
        "   - Near $10^9$, the gap grows to approximately $1.19 \\times 10^{-7}$.\n",
        "\n",
        "4. **Python Demonstration**:\n",
        "   The gap can be calculated at any number using NumPy's `spacing` function, and if a number is added that is less than half the gap then it will not change the result:\n"
      ],
      "metadata": {
        "id": "Wx3NED07W0dy"
      }
    },
    {
      "cell_type": "code",
      "source": [
        "\n",
        "   import numpy as np\n",
        "   print(np.spacing(1.0))  # Gap near 1.0\n",
        "   print(np.spacing(1e9))  # Gap near 1e9\n",
        "\n",
        "   1e9 == 1e9 + np.spacing(1e9)/4"
      ],
      "metadata": {
        "colab": {
          "base_uri": "https://localhost:8080/"
        },
        "id": "KEVMaDezbzvV",
        "outputId": "61a22a42-7579-48a5-aa0f-50ce4abb9fac"
      },
      "execution_count": null,
      "outputs": [
        {
          "output_type": "stream",
          "name": "stdout",
          "text": [
            "2.220446049250313e-16\n",
            "1.1920928955078125e-07\n"
          ]
        },
        {
          "output_type": "execute_result",
          "data": {
            "text/plain": [
              "True"
            ]
          },
          "metadata": {},
          "execution_count": 46
        }
      ]
    },
    {
      "cell_type": "markdown",
      "source": [
        "## Round-Off Errors\n",
        "\n",
        "### Introduction:\n",
        "**Round-off errors** occur because floating-point numbers cannot represent real numbers with perfect precision. This limitation arises from:\n",
        "1. The **finite number of bits** used to store floating-point numbers.\n",
        "2. The inability to represent some numbers exactly in binary form (e.g., 0.1).\n",
        "\n",
        "### Types of Round-Off Errors:\n",
        "1. **Representation Error**:\n",
        "   - Certain numbers cannot be represented exactly in binary form, leading to approximation.\n",
        "   - For example, 0.1 in decimal is a repeating binary fraction:\n",
        "$$\n",
        "     0.1 = 0.0001100110011\\ldots_\\text{binary}\n",
        "$$\n",
        "     The binary representation is truncated or rounded, causing a small error.\n",
        "\n",
        "2. **Arithmetic Error**:\n",
        "   - When performing operations (e.g., addition or subtraction) with floating-point numbers, the results may be slightly inaccurate due to rounding during intermediate calculations.\n",
        "   - Example:\n",
        "     $$\n",
        "     0.3 + 0.6 \\neq 0.9\n",
        "     $$\n",
        "     In Python:"
      ],
      "metadata": {
        "id": "lgu74lYr2XsY"
      }
    },
    {
      "cell_type": "code",
      "source": [
        "print(0.3 + 0.6 == 0.9)  # Outputs: False"
      ],
      "metadata": {
        "colab": {
          "base_uri": "https://localhost:8080/"
        },
        "id": "5TIiraEo314o",
        "outputId": "a70c2795-36f3-47a4-c8d8-ea5b3ade0bdb"
      },
      "execution_count": null,
      "outputs": [
        {
          "output_type": "stream",
          "name": "stdout",
          "text": [
            "False\n"
          ]
        }
      ]
    },
    {
      "cell_type": "markdown",
      "source": [
        "3. **Accumulation Error**:\n",
        "   - Errors accumulate when many operations with rounding are performed in sequence.\n",
        "   - Example:\n",
        "     Adding 1/3 repeatedly and then subtracting the same number of times:\n",
        "\n"
      ],
      "metadata": {
        "id": "_uZSPy0i3zbv"
      }
    },
    {
      "cell_type": "code",
      "source": [
        "     def add_and_subtract(iterations):\n",
        "         result = 1\n",
        "         for _ in range(iterations):\n",
        "             result += 1/3\n",
        "         for _ in range(iterations):\n",
        "             result -= 1/3\n",
        "         return result\n",
        "\n",
        "     print(add_and_subtract(100))  # Outputs: 1.0000000000000002\n",
        "     print(add_and_subtract(10000))  # Outputs: 1.0000000000001166\n",
        "     print(add_and_subtract(1000000))  # Outputs: 0.9999999999727986"
      ],
      "metadata": {
        "colab": {
          "base_uri": "https://localhost:8080/"
        },
        "id": "L8CIztb730Hd",
        "outputId": "5c9bf53d-ac77-4687-cc02-0ceaa5ccd44c"
      },
      "execution_count": null,
      "outputs": [
        {
          "output_type": "stream",
          "name": "stdout",
          "text": [
            "1.0000000000000002\n",
            "1.0000000000001166\n",
            "0.9999999999727986\n"
          ]
        }
      ]
    },
    {
      "cell_type": "markdown",
      "source": [
        "### Causes of Round-Off Errors:\n",
        "1. **Finite Precision**:\n",
        "   - Double-precision floating-point numbers store only 52 bits for the mantissa. This limits the number of significant digits that can be represented.\n",
        "   - Example:\n",
        "     The number 1/3 = 0.333333... is truncated after 52 bits in binary.\n",
        "\n",
        "2. **Base Conversion**:\n",
        "   - Decimal fractions like 0.1 cannot be exactly represented in binary, as binary uses powers of 2, not 10.\n",
        "\n",
        "3. **Loss of Significance**:\n",
        "   - Subtracting two nearly equal numbers causes significant digits to cancel, amplifying errors.\n",
        "   - Example:\n",
        "     Subtracting 1.00000001 - 1.00000000 should result in 0.00000001, but this is not the case as most digits are lost:"
      ],
      "metadata": {
        "id": "Xhhnbc1H6MTs"
      }
    },
    {
      "cell_type": "code",
      "source": [
        "1.00000001 - 1.00000000"
      ],
      "metadata": {
        "colab": {
          "base_uri": "https://localhost:8080/"
        },
        "id": "j9KdveYk62Zv",
        "outputId": "8128fc5d-1ec9-4a41-c4e1-0d3e8735b12c"
      },
      "execution_count": null,
      "outputs": [
        {
          "output_type": "execute_result",
          "data": {
            "text/plain": [
              "9.99999993922529e-09"
            ]
          },
          "metadata": {},
          "execution_count": 62
        }
      ]
    }
  ]
}